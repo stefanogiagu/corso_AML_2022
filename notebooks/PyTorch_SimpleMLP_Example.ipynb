{
  "cells": [
    {
      "cell_type": "markdown",
      "metadata": {
        "id": "view-in-github",
        "colab_type": "text"
      },
      "source": [
        "<a href=\"https://colab.research.google.com/github/stefanogiagu/corso_AML_2022/blob/main/notebooks/PyTorch_SimpleMLP_Example.ipynb\" target=\"_parent\"><img src=\"https://colab.research.google.com/assets/colab-badge.svg\" alt=\"Open In Colab\"/></a>"
      ]
    },
    {
      "cell_type": "code",
      "execution_count": 3,
      "metadata": {
        "id": "q_cd7xkhhQo6"
      },
      "outputs": [],
      "source": [
        "# Implementation of a basic pytorch MLP shallow architecture to illustrate \n",
        "# a tipical DL pipeline implemented in pytorch\n",
        "#\n",
        "# Stefano Giagu - v1.1 - 4.11.2022"
      ]
    },
    {
      "cell_type": "code",
      "execution_count": 4,
      "metadata": {
        "id": "F6cJhPLThtRq"
      },
      "outputs": [],
      "source": [
        "import numpy as np\n",
        "import matplotlib.pyplot as plt\n",
        "from scipy.stats import norm"
      ]
    },
    {
      "cell_type": "code",
      "execution_count": 5,
      "metadata": {
        "colab": {
          "base_uri": "https://localhost:8080/"
        },
        "id": "V3rnBiO-nwPM",
        "outputId": "d17c6573-14c3-4a84-985f-ab3c33a3063c"
      },
      "outputs": [
        {
          "output_type": "stream",
          "name": "stdout",
          "text": [
            "1.12.1+cu113\n",
            "0.13.1+cu113\n"
          ]
        }
      ],
      "source": [
        "import torch\n",
        "import torchvision\n",
        "\n",
        "print(torch.__version__)\n",
        "print(torchvision.__version__)"
      ]
    },
    {
      "cell_type": "code",
      "execution_count": 6,
      "metadata": {
        "colab": {
          "base_uri": "https://localhost:8080/"
        },
        "id": "ZL2plVoan5H6",
        "outputId": "c9124c60-8e17-4978-e1dd-ccba2fd8c40b"
      },
      "outputs": [
        {
          "output_type": "stream",
          "name": "stdout",
          "text": [
            "number fo devices:  1\n",
            "Tesla T4\n",
            "Computation device: cuda\n",
            "\n"
          ]
        }
      ],
      "source": [
        "# in torch/pytorch data and models need to be moved in the specific processing unit\n",
        "# this code snippet allows to set the variable \"device\" according to available resoirce (cpu or cuda gpu)\n",
        "\n",
        "if torch.cuda.is_available():\n",
        "  print('number fo devices: ', torch.cuda.device_count())\n",
        "  print(torch.cuda.get_device_name(0))\n",
        "\n",
        "device = ('cuda' if torch.cuda.is_available() else 'cpu')\n",
        "print(f\"Computation device: {device}\\n\")"
      ]
    },
    {
      "cell_type": "code",
      "execution_count": 7,
      "metadata": {
        "colab": {
          "base_uri": "https://localhost:8080/"
        },
        "id": "1F3TrSrLuRJW",
        "outputId": "a11c730c-d379-41a3-8ebe-2f87a8a2543d"
      },
      "outputs": [
        {
          "output_type": "stream",
          "name": "stdout",
          "text": [
            "(2560, 8)\n",
            "(2560,)\n",
            "(640, 8)\n",
            "(640,)\n",
            "(800, 8)\n",
            "(800,)\n"
          ]
        }
      ],
      "source": [
        "# Dataset: in this super simple example, we'll produce a toy dataset generated using \n",
        "# numpy \n",
        "# \n",
        "# two class problem, with 8 uncorrelated features, gaussian distributed with different \n",
        "# means and variance among features and classes\n",
        "\n",
        "features_S = np.random.normal(loc=[-4.,-3.,-2.,-1.,1.,2.,3.,4.], scale=np.random.uniform(0.2,0.7,size=(8)), size=(2000,8))\n",
        "features_B = np.random.normal(loc=[-4.5,-3.5,-2.5,-1.5,1.5,2.5,3.5,4.5], scale=np.random.uniform(0.2,0.7,size=(8)), size=(2000,8))\n",
        "labels_S = np.zeros(shape=(2000))\n",
        "labels_B = np.ones(shape=(2000))\n",
        "\n",
        "X = np.concatenate((features_S, features_B), axis=0)\n",
        "Y = np.concatenate((labels_S, labels_B), axis=0)\n",
        "\n",
        "# divide the dataset in train and test\n",
        "from sklearn.model_selection import train_test_split\n",
        "\n",
        "X_train, X_test, Y_train, Y_test = train_test_split(X, Y, test_size=0.2, random_state=12345)\n",
        "X_train, X_vali, Y_train, Y_vali = train_test_split(X_train, Y_train, test_size=0.2, random_state=456789)\n",
        "print(X_train.shape)\n",
        "print(Y_train.shape)\n",
        "print(X_vali.shape)\n",
        "print(Y_vali.shape)\n",
        "print(X_test.shape)\n",
        "print(Y_test.shape)"
      ]
    },
    {
      "cell_type": "code",
      "source": [
        "# plot variables\n",
        "\n",
        "sel_S = tuple([Y_train<0.5])\n",
        "sel_B = tuple([Y_train>0.5])\n",
        "\n",
        "for idx in range(8):\n",
        "  plt.subplot(2,4,idx+1)\n",
        "  plt.hist((X_train[sel_S])[:,idx], bins=50, range=[-6.,6.], alpha=0.5, log=True, density=True)\n",
        "  plt.hist((X_train[sel_B])[:,idx], bins=50, range=[-6.,6.], alpha=0.5, log=True, density=True)\n",
        "plt.tight_layout()"
      ],
      "metadata": {
        "colab": {
          "base_uri": "https://localhost:8080/",
          "height": 297
        },
        "id": "qHpIRa6SmFQO",
        "outputId": "e4b553e3-d9a8-4cd8-cd76-d3c0b23e974b"
      },
      "execution_count": 8,
      "outputs": [
        {
          "output_type": "display_data",
          "data": {
            "text/plain": [
              "<Figure size 432x288 with 8 Axes>"
            ],
            "image/png": "[encoded data removed]"
          },
          "metadata": {
            "needs_background": "light"
          }
        }
      ]
    },
    {
      "cell_type": "code",
      "execution_count": 9,
      "metadata": {
        "colab": {
          "base_uri": "https://localhost:8080/"
        },
        "id": "u1Lymch5XTw8",
        "outputId": "cb0d4cb7-b8f9-43ac-e5ca-8ada2fcc3c87"
      },
      "outputs": [
        {
          "output_type": "stream",
          "name": "stdout",
          "text": [
            "torch.Size([2560, 8])\n",
            "torch.Size([2560])\n",
            "torch.Size([640, 8])\n",
            "torch.Size([640])\n",
            "torch.Size([800, 8])\n",
            "torch.Size([800])\n"
          ]
        }
      ],
      "source": [
        "# transform the numpy arrays to torch tensors (pytorch works with torch tensors)\n",
        "\n",
        "X_train_pt = torch.Tensor(X_train).float()\n",
        "Y_train_pt = torch.Tensor(Y_train).float()\n",
        "X_vali_pt = torch.Tensor(X_vali).float()\n",
        "Y_vali_pt = torch.Tensor(Y_vali).float()\n",
        "X_test_pt = torch.Tensor(X_test).float()\n",
        "Y_test_pt = torch.Tensor(Y_test).float()\n",
        "\n",
        "print(X_train_pt.shape)\n",
        "print(Y_train_pt.shape)\n",
        "print(X_vali_pt.shape)\n",
        "print(Y_vali_pt.shape)\n",
        "print(X_test_pt.shape)\n",
        "print(Y_test_pt.shape)\n",
        "\n",
        "# create a pytorch dataset and a pytroch dataloader (a python iterable that allows to iterate among sample's events \n",
        "# mini-batch it, reshuffle at every epoch, etc...)\n",
        "from torch.utils.data import TensorDataset, DataLoader\n",
        "\n",
        "dataset_train = TensorDataset(X_train_pt, Y_train_pt) \n",
        "dataloader_train = DataLoader(dataset_train, batch_size=32, shuffle=True) \n",
        "\n",
        "dataset_vali = TensorDataset(X_vali_pt, Y_vali_pt) \n",
        "dataloader_vali = DataLoader(dataset_vali, batch_size=32, shuffle=True) "
      ]
    },
    {
      "cell_type": "code",
      "source": [
        "# note: move torch tensors between cpu and gpu\n",
        "\n",
        "print('X_train_pt is in GPU: ', X_train_pt.is_cuda)\n",
        "X_train_pt = X_train_pt.to(device)\n",
        "print('X_train_pt is in GPU: ', X_train_pt.is_cuda)\n",
        "X_train_pt = X_train_pt.to('cpu')\n",
        "print('X_train_pt is in GPU: ', X_train_pt.is_cuda)\n",
        "\n",
        "\n",
        "# alteranative way (earlier troch style)\n",
        "# use .cuda() e .cpu()\n",
        "print('X_train_pt is in GPU: ', X_train_pt.cpu())\n",
        "print('X_train_pt is in GPU: ', X_train_pt.cuda())"
      ],
      "metadata": {
        "colab": {
          "base_uri": "https://localhost:8080/"
        },
        "id": "eL6Lhlndh3Ee",
        "outputId": "5e63c085-a0d4-40fb-e7fe-00f1ada0c745"
      },
      "execution_count": 10,
      "outputs": [
        {
          "output_type": "stream",
          "name": "stdout",
          "text": [
            "X_train_pt is in GPU:  False\n",
            "X_train_pt is in GPU:  True\n",
            "X_train_pt is in GPU:  False\n",
            "X_train_pt is in GPU:  tensor([[-3.6958, -4.2599, -1.7123,  ...,  1.4436,  2.7942,  5.5894],\n",
            "        [-4.0495, -3.5006, -1.5843,  ...,  1.5172,  3.0420,  4.8225],\n",
            "        [-3.8053, -3.5453, -2.9330,  ...,  2.1693,  3.4041,  4.9489],\n",
            "        ...,\n",
            "        [-3.9413, -2.3033, -2.0700,  ...,  1.1351,  3.0200,  4.8343],\n",
            "        [-3.9465, -3.0101, -2.4474,  ...,  2.1084,  3.4092,  3.8719],\n",
            "        [-4.2310, -3.1001, -3.0965,  ...,  2.4153,  3.5551,  4.9888]])\n",
            "X_train_pt is in GPU:  tensor([[-3.6958, -4.2599, -1.7123,  ...,  1.4436,  2.7942,  5.5894],\n",
            "        [-4.0495, -3.5006, -1.5843,  ...,  1.5172,  3.0420,  4.8225],\n",
            "        [-3.8053, -3.5453, -2.9330,  ...,  2.1693,  3.4041,  4.9489],\n",
            "        ...,\n",
            "        [-3.9413, -2.3033, -2.0700,  ...,  1.1351,  3.0200,  4.8343],\n",
            "        [-3.9465, -3.0101, -2.4474,  ...,  2.1084,  3.4092,  3.8719],\n",
            "        [-4.2310, -3.1001, -3.0965,  ...,  2.4153,  3.5551,  4.9888]],\n",
            "       device='cuda:0')\n"
          ]
        }
      ]
    },
    {
      "cell_type": "code",
      "source": [
        "# example of iteration through the dataloader\n",
        "\n",
        "train_features, train_labels = next(iter(dataloader_train))\n",
        "\n",
        "print(f\"Feature batch shape: {train_features.size()}\")\n",
        "print(f\"Labels batch shape: {train_labels.size()}\")\n",
        "\n",
        "an_event = train_features[0].squeeze()\n",
        "a_label = train_labels[0]\n",
        "\n",
        "print(f\"Feature: {an_event}\")\n",
        "print(f\"Label: {a_label}\")"
      ],
      "metadata": {
        "colab": {
          "base_uri": "https://localhost:8080/"
        },
        "id": "hzLJyiBNvZVg",
        "outputId": "ee81cc22-a6ac-4a5b-959c-c428a9970f92"
      },
      "execution_count": 11,
      "outputs": [
        {
          "output_type": "stream",
          "name": "stdout",
          "text": [
            "Feature batch shape: torch.Size([32, 8])\n",
            "Labels batch shape: torch.Size([32])\n",
            "Feature: tensor([-4.0126, -2.9002, -1.9354, -1.0122,  0.6580,  2.1176,  2.9225,  4.1329])\n",
            "Label: 0.0\n"
          ]
        }
      ]
    },
    {
      "cell_type": "code",
      "execution_count": 12,
      "metadata": {
        "id": "At2pTSb5uJ0O"
      },
      "outputs": [],
      "source": [
        "# a pytorch nn model: it is just a python class inheriting from nn.Module that defines \n",
        "# the layers and activations used in the DNN model and a forward(x) method that defines \n",
        "# how the model act on an input example x\n",
        "\n",
        "from torch import nn\n",
        "import torch.nn.functional as F\n",
        "\n",
        "# as a basic example let'd define a shallow ANN with a dense layer with 20 neurons\n",
        "class ShallowANN(nn.Module):\n",
        "  def __init__(self, input_dim):\n",
        "    super(ShallowANN, self).__init__()\n",
        "    \n",
        "    #torch.nn.Linear(in_features, out_features, bias=True, device=None, dtype=None)\n",
        "    #Linear in pytorch is the equivalent of Dense in keras\n",
        "    self.layer1 = nn.Linear(input_dim, 20)\n",
        "    self.activ1 = nn.ReLU()\n",
        "    self.layer2 = nn.Linear(20, 1)\n",
        "    self.activ2 = nn.Sigmoid()\n",
        "    \n",
        "  def forward(self, x):\n",
        "    out = self.layer1(x) \n",
        "    out = self.activ1(out) \n",
        "    out = self.layer2(out) #alternatively the two statements can be replaced \n",
        "    out = self.activ2(out) #out = torch.sigmoid(self.layer2(out))\n",
        "    return out\n",
        "\n",
        "# note: it is strightfoward to modify the class to implement a MLP\n",
        "\n",
        "# example MLP: with 3 hidden layers\n",
        "\n",
        "class MyMLP(nn.Module):\n",
        "  def __init__(self):\n",
        "    super(MyMLP, self).__init__()\n",
        "    \n",
        "    self.layer1 = nn.Linear(8, 20)\n",
        "    self.activ1 = nn.ReLU()\n",
        "    self.layer2 = nn.Linear(20, 50)\n",
        "    self.activ2 = nn.ReLU()\n",
        "    self.layer3 = nn.Linear(50, 100)\n",
        "    self.activ3 = nn.ReLU()\n",
        "    self.layer4 = nn.Linear(100, 1)\n",
        "    self.activ4 = nn.Sigmoid()\n",
        "    \n",
        "  def forward(self, x):\n",
        "    out = self.layer1(x)\n",
        "    out = self.activ1(out)\n",
        "    out = self.layer2(out)\n",
        "    out = self.activ2(out)\n",
        "    out = self.layer3(out)\n",
        "    out = self.activ3(out)\n",
        "    out = self.layer4(out)\n",
        "    out = self.activ4(out)\n",
        "    return out\n",
        "\n",
        "\n",
        "# alternative implementation \n",
        "class MyMLP2(nn.Module):\n",
        "  def __init__(self):\n",
        "    super(MyMLP2, self).__init__()\n",
        "\n",
        "    self.mlp_block = nn.Sequential( #similar to keras keras.Sequential module\n",
        "      nn.Linear(8, 20),\n",
        "      nn.ReLU(),\n",
        "      nn.Linear(20, 50),\n",
        "      nn.ReLU(),\n",
        "      nn.Linear(50, 100),\n",
        "      nn.ReLU()\n",
        "    )\n",
        "    \n",
        "    self.out_block = nn.Linear(100, 1)\n",
        "    \n",
        "  def forward(self, x):\n",
        "    out = torch.sigmoid(self.out_block(self.mlp(x)))\n",
        "    return out"
      ]
    },
    {
      "cell_type": "code",
      "execution_count": 13,
      "metadata": {
        "colab": {
          "base_uri": "https://localhost:8080/"
        },
        "id": "CW_NlvdnuRJZ",
        "outputId": "ffd9b129-cc75-4d96-fdfe-2ae332334f10"
      },
      "outputs": [
        {
          "output_type": "stream",
          "name": "stdout",
          "text": [
            "Looking in indexes: https://pypi.org/simple, https://us-python.pkg.dev/colab-wheels/public/simple/\n",
            "Requirement already satisfied: torchsummary in /usr/local/lib/python3.7/dist-packages (1.5.1)\n"
          ]
        }
      ],
      "source": [
        "%pip install torchsummary"
      ]
    },
    {
      "cell_type": "code",
      "execution_count": 14,
      "metadata": {
        "colab": {
          "base_uri": "https://localhost:8080/"
        },
        "id": "uaLMNMzt1TAK",
        "outputId": "e94ecb4c-3e3b-46ac-92fa-e62061c72145"
      },
      "outputs": [
        {
          "output_type": "stream",
          "name": "stdout",
          "text": [
            "ShallowANN(\n",
            "  (layer1): Linear(in_features=8, out_features=20, bias=True)\n",
            "  (activ1): ReLU()\n",
            "  (layer2): Linear(in_features=20, out_features=1, bias=True)\n",
            "  (activ2): Sigmoid()\n",
            ")\n",
            "----------------------------------------------------------------\n",
            "        Layer (type)               Output Shape         Param #\n",
            "================================================================\n",
            "            Linear-1                [-1, 1, 20]             180\n",
            "              ReLU-2                [-1, 1, 20]               0\n",
            "            Linear-3                 [-1, 1, 1]              21\n",
            "           Sigmoid-4                 [-1, 1, 1]               0\n",
            "================================================================\n",
            "Total params: 201\n",
            "Trainable params: 201\n",
            "Non-trainable params: 0\n",
            "----------------------------------------------------------------\n",
            "Input size (MB): 0.00\n",
            "Forward/backward pass size (MB): 0.00\n",
            "Params size (MB): 0.00\n",
            "Estimated Total Size (MB): 0.00\n",
            "----------------------------------------------------------------\n"
          ]
        }
      ],
      "source": [
        "model = ShallowANN(input_dim=8)\n",
        "print(model)\n",
        "\n",
        "from torchsummary import summary\n",
        "if torch.cuda.is_available():\n",
        "  summary(model.cuda(), input_size=(1,8))\n",
        "else:\n",
        "  summary(model, input_size=(1,8))"
      ]
    },
    {
      "cell_type": "code",
      "source": [
        "#install torchmetrics: collection of useful PyTorch metrics implementations and an easy-to-use API to create custom metrics]\n",
        "%pip install torchmetrics"
      ],
      "metadata": {
        "colab": {
          "base_uri": "https://localhost:8080/"
        },
        "id": "bn2FIc6jlvnz",
        "outputId": "2ad718c1-551c-40d4-e62d-e01e61eb02de"
      },
      "execution_count": 15,
      "outputs": [
        {
          "output_type": "stream",
          "name": "stdout",
          "text": [
            "Looking in indexes: https://pypi.org/simple, https://us-python.pkg.dev/colab-wheels/public/simple/\n",
            "Requirement already satisfied: torchmetrics in /usr/local/lib/python3.7/dist-packages (0.10.2)\n",
            "Requirement already satisfied: torch>=1.3.1 in /usr/local/lib/python3.7/dist-packages (from torchmetrics) (1.12.1+cu113)\n",
            "Requirement already satisfied: packaging in /usr/local/lib/python3.7/dist-packages (from torchmetrics) (21.3)\n",
            "Requirement already satisfied: numpy>=1.17.2 in /usr/local/lib/python3.7/dist-packages (from torchmetrics) (1.21.6)\n",
            "Requirement already satisfied: typing-extensions in /usr/local/lib/python3.7/dist-packages (from torchmetrics) (4.1.1)\n",
            "Requirement already satisfied: pyparsing!=3.0.5,>=2.0.2 in /usr/local/lib/python3.7/dist-packages (from packaging->torchmetrics) (3.0.9)\n"
          ]
        }
      ]
    },
    {
      "cell_type": "code",
      "execution_count": 16,
      "metadata": {
        "colab": {
          "base_uri": "https://localhost:8080/"
        },
        "id": "qKuuD7vzrdff",
        "outputId": "d7786908-2d1e-47e2-fe09-f20e50fb434c"
      },
      "outputs": [
        {
          "output_type": "stream",
          "name": "stdout",
          "text": [
            "model is on GPU:  True\n"
          ]
        }
      ],
      "source": [
        "# reinstantiate a new model (reset weight etc) and put it on GPU\n",
        "model = ShallowANN(input_dim=8)\n",
        "model.to(device)\n",
        "print('model is on GPU: ',next(model.parameters()).is_cuda)"
      ]
    },
    {
      "cell_type": "code",
      "execution_count": 17,
      "metadata": {
        "id": "asMI2TET1_wS"
      },
      "outputs": [],
      "source": [
        "#loss \n",
        "\n",
        "# NOTE: BCELoss for binary classification\n",
        "#       CrossEntropyLoss for multiclass classification (already includes softmax calculation, output of ANN foward method are logits)\n",
        "loss_func = nn.BCELoss() #binary cross entropy loss\n",
        "\n",
        "# metrics\n",
        "import torchmetrics\n",
        "from torchmetrics.functional.classification import binary_accuracy\n",
        "\n",
        "#metric binary accuracy (hand's made)\n",
        "def my_binary_accuracy(yhat, y):\n",
        "  assert y.ndim == 1 and y.size() == yhat.size()\n",
        "  yhat = yhat > 0.5\n",
        "  return (y == yhat).sum().item() / y.size(0)\n",
        "\n",
        "my_metric_func = my_binary_accuracy\n",
        "\n",
        "# NOTE: better to use metrics from torchmetrics:\n",
        "#  torchmetrics.functional.classification.binary_accuracy(preds, target)\n",
        "\n",
        "# optim\n",
        "from torch import optim\n",
        "#opt = optim.SGD(model.parameters(), lr=0.001, momentum=0.9)\n",
        "\n",
        "# alternative\n",
        "\n",
        "opt = optim.Adam(model.parameters(), lr=1e-3)\n",
        "\n",
        "# scheduler for multi step decay lr schedule\n",
        "# Decays the learning rate of each parameter group by gamma once the number of epoch reaches one of the milestones\n",
        "#lr_scheduler = optim.lr_scheduler.MultiStepLR(opt, milestones=[20,40,60], gamma=0.1)"
      ]
    },
    {
      "cell_type": "code",
      "source": [
        "# test implementation on one batch before to train\n",
        "xb,yb = next(iter(dataloader_train))\n",
        "\n",
        "xb=xb.type(torch.float).to(device) #put tensors on device\n",
        "yb=yb.type(torch.float).to(device)\n",
        "\n",
        "# prediction\n",
        "\n",
        "pred = model(xb)\n",
        "print('output shape: ', pred.shape)\n",
        "\n",
        "# loss and metric\n",
        "loss = loss_func(pred, torch.unsqueeze(yb,1))\n",
        "metric = binary_accuracy(pred, torch.unsqueeze(yb,1))\n",
        "#or also: metric = binary_accuracy(torch.squeeze(pred), yb)\n",
        "mymetric = my_metric_func(torch.squeeze(pred), yb)\n",
        "\n",
        "print('loss: ', loss.item())\n",
        "print('metric: ', metric.item())\n",
        "print('my_metric: ', mymetric)"
      ],
      "metadata": {
        "colab": {
          "base_uri": "https://localhost:8080/"
        },
        "id": "6Aev66vFnbiq",
        "outputId": "2dedc03c-b72d-4946-c82e-593c88bf83ec"
      },
      "execution_count": 18,
      "outputs": [
        {
          "output_type": "stream",
          "name": "stdout",
          "text": [
            "output shape:  torch.Size([32, 1])\n",
            "loss:  0.7557515501976013\n",
            "metric:  0.40625\n",
            "my_metric:  0.40625\n"
          ]
        }
      ]
    },
    {
      "cell_type": "code",
      "execution_count": 20,
      "metadata": {
        "colab": {
          "base_uri": "https://localhost:8080/"
        },
        "id": "ULR6JSud2M0e",
        "outputId": "7f9fc2ba-8911-45c9-beb3-f860579b4373"
      },
      "outputs": [
        {
          "output_type": "stream",
          "name": "stdout",
          "text": [
            "epoch: 1, time(s): 0.2035, train loss: 0.699075, train metric: 0.478516, vali loss: 0.691224, vali metric: 0.498437\n",
            "epoch: 2, time(s): 0.1991, train loss: 0.685381, train metric: 0.527344, vali loss: 0.679948, vali metric: 0.514062\n",
            "epoch: 3, time(s): 0.2042, train loss: 0.671576, train metric: 0.539844, vali loss: 0.664881, vali metric: 0.656250\n",
            "epoch: 4, time(s): 0.2007, train loss: 0.655312, train metric: 0.616016, vali loss: 0.642893, vali metric: 0.610938\n",
            "epoch: 5, time(s): 0.2076, train loss: 0.628526, train metric: 0.644531, vali loss: 0.620357, vali metric: 0.639062\n",
            "epoch: 6, time(s): 0.1918, train loss: 0.605488, train metric: 0.681641, vali loss: 0.598375, vali metric: 0.685937\n",
            "epoch: 7, time(s): 0.2050, train loss: 0.586470, train metric: 0.703906, vali loss: 0.582584, vali metric: 0.732812\n",
            "epoch: 8, time(s): 0.1971, train loss: 0.569934, train metric: 0.712500, vali loss: 0.576978, vali metric: 0.673438\n",
            "epoch: 9, time(s): 0.1975, train loss: 0.556430, train metric: 0.719922, vali loss: 0.560666, vali metric: 0.715625\n",
            "epoch: 10, time(s): 0.2008, train loss: 0.545986, train metric: 0.730469, vali loss: 0.549486, vali metric: 0.751563\n",
            "epoch: 11, time(s): 0.2075, train loss: 0.538340, train metric: 0.733203, vali loss: 0.540279, vali metric: 0.735938\n",
            "epoch: 12, time(s): 0.2216, train loss: 0.529509, train metric: 0.739453, vali loss: 0.533470, vali metric: 0.742188\n",
            "epoch: 13, time(s): 0.2099, train loss: 0.520948, train metric: 0.754297, vali loss: 0.525962, vali metric: 0.756250\n",
            "epoch: 14, time(s): 0.2003, train loss: 0.511721, train metric: 0.759375, vali loss: 0.518323, vali metric: 0.764062\n",
            "epoch: 15, time(s): 0.2211, train loss: 0.504145, train metric: 0.764844, vali loss: 0.515273, vali metric: 0.776563\n",
            "epoch: 16, time(s): 0.2170, train loss: 0.496173, train metric: 0.767188, vali loss: 0.503551, vali metric: 0.770312\n",
            "epoch: 17, time(s): 0.2092, train loss: 0.487716, train metric: 0.777344, vali loss: 0.496410, vali metric: 0.776563\n",
            "epoch: 18, time(s): 0.2132, train loss: 0.482319, train metric: 0.776953, vali loss: 0.499379, vali metric: 0.775000\n",
            "epoch: 19, time(s): 0.2095, train loss: 0.474138, train metric: 0.788281, vali loss: 0.480432, vali metric: 0.785937\n",
            "epoch: 20, time(s): 0.2082, train loss: 0.465417, train metric: 0.790234, vali loss: 0.473945, vali metric: 0.793750\n",
            "epoch: 21, time(s): 0.1967, train loss: 0.457254, train metric: 0.800391, vali loss: 0.470640, vali metric: 0.796875\n",
            "epoch: 22, time(s): 0.2065, train loss: 0.451128, train metric: 0.797266, vali loss: 0.458914, vali metric: 0.803125\n",
            "epoch: 23, time(s): 0.2059, train loss: 0.442014, train metric: 0.806641, vali loss: 0.462422, vali metric: 0.793750\n",
            "epoch: 24, time(s): 0.2208, train loss: 0.434517, train metric: 0.813281, vali loss: 0.446715, vali metric: 0.809375\n",
            "epoch: 25, time(s): 0.2157, train loss: 0.427227, train metric: 0.819531, vali loss: 0.441803, vali metric: 0.807813\n",
            "epoch: 26, time(s): 0.2176, train loss: 0.419495, train metric: 0.829688, vali loss: 0.430796, vali metric: 0.820312\n",
            "epoch: 27, time(s): 0.2094, train loss: 0.411178, train metric: 0.836719, vali loss: 0.419991, vali metric: 0.823438\n",
            "epoch: 28, time(s): 0.1998, train loss: 0.402297, train metric: 0.837891, vali loss: 0.413969, vali metric: 0.829688\n",
            "epoch: 29, time(s): 0.2066, train loss: 0.395201, train metric: 0.839453, vali loss: 0.404554, vali metric: 0.837500\n",
            "epoch: 30, time(s): 0.2096, train loss: 0.387021, train metric: 0.848828, vali loss: 0.397505, vali metric: 0.837500\n",
            "epoch: 31, time(s): 0.2005, train loss: 0.378940, train metric: 0.852734, vali loss: 0.388750, vali metric: 0.846875\n",
            "epoch: 32, time(s): 0.2054, train loss: 0.373406, train metric: 0.856250, vali loss: 0.382813, vali metric: 0.853125\n",
            "epoch: 33, time(s): 0.1945, train loss: 0.363800, train metric: 0.864844, vali loss: 0.373228, vali metric: 0.851562\n",
            "epoch: 34, time(s): 0.2022, train loss: 0.355931, train metric: 0.871484, vali loss: 0.365594, vali metric: 0.857812\n",
            "epoch: 35, time(s): 0.2109, train loss: 0.349317, train metric: 0.867969, vali loss: 0.358065, vali metric: 0.854688\n",
            "epoch: 36, time(s): 0.2075, train loss: 0.343014, train metric: 0.877344, vali loss: 0.354567, vali metric: 0.876563\n",
            "epoch: 37, time(s): 0.2086, train loss: 0.333722, train metric: 0.882812, vali loss: 0.342133, vali metric: 0.868750\n",
            "epoch: 38, time(s): 0.1989, train loss: 0.327478, train metric: 0.882031, vali loss: 0.337609, vali metric: 0.885938\n",
            "epoch: 39, time(s): 0.2020, train loss: 0.320453, train metric: 0.891406, vali loss: 0.328367, vali metric: 0.885938\n",
            "epoch: 40, time(s): 0.2127, train loss: 0.314527, train metric: 0.893750, vali loss: 0.321335, vali metric: 0.887500\n",
            "epoch: 41, time(s): 0.2080, train loss: 0.306752, train metric: 0.903125, vali loss: 0.314676, vali metric: 0.890625\n",
            "epoch: 42, time(s): 0.1990, train loss: 0.301844, train metric: 0.900391, vali loss: 0.309416, vali metric: 0.892188\n",
            "epoch: 43, time(s): 0.1986, train loss: 0.295035, train metric: 0.904297, vali loss: 0.302591, vali metric: 0.901563\n",
            "epoch: 44, time(s): 0.1958, train loss: 0.287560, train metric: 0.912109, vali loss: 0.296984, vali metric: 0.900000\n",
            "epoch: 45, time(s): 0.2196, train loss: 0.283856, train metric: 0.912500, vali loss: 0.291702, vali metric: 0.906250\n",
            "epoch: 46, time(s): 0.2087, train loss: 0.280286, train metric: 0.910937, vali loss: 0.284790, vali metric: 0.914062\n",
            "epoch: 47, time(s): 0.1993, train loss: 0.272054, train metric: 0.918750, vali loss: 0.282207, vali metric: 0.901563\n",
            "epoch: 48, time(s): 0.2037, train loss: 0.267229, train metric: 0.926172, vali loss: 0.274076, vali metric: 0.912500\n",
            "epoch: 49, time(s): 0.1970, train loss: 0.263694, train metric: 0.918359, vali loss: 0.270558, vali metric: 0.915625\n",
            "epoch: 50, time(s): 0.2101, train loss: 0.260566, train metric: 0.923047, vali loss: 0.277031, vali metric: 0.903125\n",
            "epoch: 51, time(s): 0.2006, train loss: 0.253907, train metric: 0.928906, vali loss: 0.263890, vali metric: 0.909375\n",
            "epoch: 52, time(s): 0.2040, train loss: 0.251243, train metric: 0.928516, vali loss: 0.255633, vali metric: 0.928125\n",
            "epoch: 53, time(s): 0.2100, train loss: 0.245069, train metric: 0.931250, vali loss: 0.252896, vali metric: 0.929688\n",
            "epoch: 54, time(s): 0.1978, train loss: 0.240078, train metric: 0.933984, vali loss: 0.254416, vali metric: 0.917188\n",
            "epoch: 55, time(s): 0.2116, train loss: 0.236976, train metric: 0.932813, vali loss: 0.244820, vali metric: 0.918750\n",
            "epoch: 56, time(s): 0.1956, train loss: 0.232625, train metric: 0.935156, vali loss: 0.239542, vali metric: 0.925000\n",
            "epoch: 57, time(s): 0.1989, train loss: 0.228907, train metric: 0.934375, vali loss: 0.241394, vali metric: 0.920312\n",
            "epoch: 58, time(s): 0.1941, train loss: 0.225320, train metric: 0.937891, vali loss: 0.244898, vali metric: 0.915625\n",
            "epoch: 59, time(s): 0.2175, train loss: 0.226109, train metric: 0.932031, vali loss: 0.239280, vali metric: 0.921875\n",
            "epoch: 60, time(s): 0.2082, train loss: 0.219804, train metric: 0.932813, vali loss: 0.227562, vali metric: 0.929688\n",
            "epoch: 61, time(s): 0.2008, train loss: 0.217463, train metric: 0.934766, vali loss: 0.223527, vali metric: 0.934375\n",
            "epoch: 62, time(s): 0.2103, train loss: 0.216143, train metric: 0.934766, vali loss: 0.222579, vali metric: 0.929688\n",
            "epoch: 63, time(s): 0.1954, train loss: 0.211371, train metric: 0.937109, vali loss: 0.221461, vali metric: 0.931250\n",
            "epoch: 64, time(s): 0.2034, train loss: 0.208523, train metric: 0.936328, vali loss: 0.215701, vali metric: 0.934375\n",
            "epoch: 65, time(s): 0.2076, train loss: 0.205252, train metric: 0.937109, vali loss: 0.212651, vali metric: 0.935937\n",
            "epoch: 66, time(s): 0.1958, train loss: 0.203686, train metric: 0.938281, vali loss: 0.210829, vali metric: 0.937500\n",
            "epoch: 67, time(s): 0.2003, train loss: 0.203966, train metric: 0.938672, vali loss: 0.208566, vali metric: 0.935937\n",
            "epoch: 68, time(s): 0.1981, train loss: 0.200180, train metric: 0.938281, vali loss: 0.205541, vali metric: 0.937500\n",
            "epoch: 69, time(s): 0.1999, train loss: 0.194977, train metric: 0.939844, vali loss: 0.210660, vali metric: 0.937500\n",
            "epoch: 70, time(s): 0.2194, train loss: 0.193660, train metric: 0.941406, vali loss: 0.201443, vali metric: 0.937500\n",
            "epoch: 71, time(s): 0.1953, train loss: 0.190866, train metric: 0.940234, vali loss: 0.202696, vali metric: 0.935937\n",
            "epoch: 72, time(s): 0.2006, train loss: 0.190049, train metric: 0.942578, vali loss: 0.197948, vali metric: 0.940625\n",
            "epoch: 73, time(s): 0.1993, train loss: 0.188064, train metric: 0.939453, vali loss: 0.196312, vali metric: 0.939063\n",
            "epoch: 74, time(s): 0.2013, train loss: 0.186333, train metric: 0.940234, vali loss: 0.194159, vali metric: 0.939063\n",
            "epoch: 75, time(s): 0.2280, train loss: 0.185360, train metric: 0.939063, vali loss: 0.193965, vali metric: 0.937500\n",
            "epoch: 76, time(s): 0.1983, train loss: 0.182247, train metric: 0.937891, vali loss: 0.192776, vali metric: 0.939063\n",
            "epoch: 77, time(s): 0.1999, train loss: 0.180466, train metric: 0.940625, vali loss: 0.195740, vali metric: 0.939063\n",
            "epoch: 78, time(s): 0.1951, train loss: 0.180588, train metric: 0.943750, vali loss: 0.189580, vali metric: 0.937500\n",
            "epoch: 79, time(s): 0.1997, train loss: 0.178228, train metric: 0.940625, vali loss: 0.188127, vali metric: 0.939063\n",
            "epoch: 80, time(s): 0.2103, train loss: 0.178034, train metric: 0.940625, vali loss: 0.184379, vali metric: 0.943750\n",
            "epoch: 81, time(s): 0.1925, train loss: 0.174374, train metric: 0.946484, vali loss: 0.184879, vali metric: 0.940625\n",
            "epoch: 82, time(s): 0.1954, train loss: 0.174999, train metric: 0.944922, vali loss: 0.188581, vali metric: 0.942187\n",
            "epoch: 83, time(s): 0.2010, train loss: 0.172805, train metric: 0.943750, vali loss: 0.180391, vali metric: 0.940625\n",
            "epoch: 84, time(s): 0.2054, train loss: 0.171744, train metric: 0.942187, vali loss: 0.179738, vali metric: 0.939063\n",
            "epoch: 85, time(s): 0.2112, train loss: 0.173097, train metric: 0.944531, vali loss: 0.178737, vali metric: 0.939063\n",
            "epoch: 86, time(s): 0.2063, train loss: 0.168128, train metric: 0.942969, vali loss: 0.179082, vali metric: 0.940625\n",
            "epoch: 87, time(s): 0.1988, train loss: 0.167072, train metric: 0.943750, vali loss: 0.180267, vali metric: 0.939063\n",
            "epoch: 88, time(s): 0.2022, train loss: 0.165486, train metric: 0.944531, vali loss: 0.177936, vali metric: 0.946875\n",
            "epoch: 89, time(s): 0.2065, train loss: 0.164241, train metric: 0.947266, vali loss: 0.176985, vali metric: 0.942187\n",
            "epoch: 90, time(s): 0.2069, train loss: 0.163902, train metric: 0.943359, vali loss: 0.180117, vali metric: 0.932813\n",
            "epoch: 91, time(s): 0.2027, train loss: 0.163268, train metric: 0.944141, vali loss: 0.174156, vali metric: 0.942187\n",
            "epoch: 92, time(s): 0.2111, train loss: 0.160224, train metric: 0.945312, vali loss: 0.172433, vali metric: 0.940625\n",
            "epoch: 93, time(s): 0.2001, train loss: 0.160805, train metric: 0.945703, vali loss: 0.173599, vali metric: 0.939063\n",
            "epoch: 94, time(s): 0.2048, train loss: 0.162299, train metric: 0.946094, vali loss: 0.173684, vali metric: 0.946875\n",
            "epoch: 95, time(s): 0.2121, train loss: 0.158076, train metric: 0.947266, vali loss: 0.173278, vali metric: 0.939063\n",
            "epoch: 96, time(s): 0.1996, train loss: 0.157486, train metric: 0.947656, vali loss: 0.170448, vali metric: 0.948438\n",
            "epoch: 97, time(s): 0.2007, train loss: 0.157807, train metric: 0.944531, vali loss: 0.166512, vali metric: 0.951562\n",
            "epoch: 98, time(s): 0.2115, train loss: 0.154989, train metric: 0.949219, vali loss: 0.166648, vali metric: 0.946875\n",
            "epoch: 99, time(s): 0.2051, train loss: 0.157127, train metric: 0.945312, vali loss: 0.166640, vali metric: 0.946875\n",
            "epoch: 100, time(s): 0.2140, train loss: 0.153605, train metric: 0.949219, vali loss: 0.170055, vali metric: 0.939063\n"
          ]
        }
      ],
      "source": [
        "#training loop (in pytorch you need to write yourself it (alternatively use PyTorch Lightning for more keras-like APIs))\n",
        "import time\n",
        "epochs = 100\n",
        "\n",
        "# define a couple of lists to store loss and accuracy during training for monitorin purposes\n",
        "hist_loss = []\n",
        "hist_metric = []\n",
        "hist_val_loss = []\n",
        "hist_val_metric = []\n",
        "\n",
        "# loop over epochs\n",
        "for epoch in range(epochs):\n",
        "    t0 = time.time()\n",
        "    \n",
        "    #training step\n",
        "    model.train() #important!\n",
        "    train_loss = 0.0\n",
        "    train_metric = 0.0\n",
        "    counter = 0\n",
        "    for xb, yb in dataloader_train: #loop over minibatches\n",
        "        counter += 1\n",
        "        xb=xb.type(torch.float).to(device)\n",
        "        yb=yb.type(torch.float).to(device)\n",
        "        pred = model(xb)\n",
        "        loss = loss_func(pred, torch.unsqueeze(yb,1))\n",
        "        metric = binary_accuracy(pred, torch.unsqueeze(yb,1))\n",
        "        train_loss += loss.item()\n",
        "        train_metric += metric.item()\n",
        "\n",
        "        # backpropagation\n",
        "        loss.backward()\n",
        "        opt.step()\n",
        "        opt.zero_grad()\n",
        " \n",
        "    train_loss = train_loss/counter\n",
        "    train_metric = train_metric/counter\n",
        "\n",
        "    hist_loss.append(train_loss)\n",
        "    hist_metric.append(train_metric)\n",
        "\n",
        "    # validation step\n",
        "    model.eval() #important!\n",
        "    vali_loss = 0.0\n",
        "    vali_metric = 0.0\n",
        "    counter = 0\n",
        "    with torch.no_grad():\n",
        "      for xb, yb in dataloader_vali:\n",
        "        counter += 1\n",
        "        xb=xb.type(torch.float).to(device)\n",
        "        yb=yb.type(torch.float).to(device)\n",
        "        pred = model(xb)\n",
        "        vloss = loss_func(pred, torch.unsqueeze(yb,1))\n",
        "        vmetric = binary_accuracy(pred, torch.unsqueeze(yb,1))\n",
        "        vali_loss += vloss.item()\n",
        "        vali_metric += vmetric.item()\n",
        "        \n",
        "    vali_loss = vali_loss/counter\n",
        "    vali_metric = vali_metric/counter    \n",
        "\n",
        "    hist_val_loss.append(vali_loss)\n",
        "    hist_val_metric.append(vali_metric)\n",
        "\n",
        "    elapsed_time = time.time()-t0\n",
        "    #current_lr = lr_scheduler.get_last_lr()[0]\n",
        "    #print(\"epoch: %d, time(s): %.4f, train loss: %.6f, train metric: %.6f, vali loss: %.6f, vali metric: %.6f, lr : %1.2e\" \n",
        "    #      % (epoch+1, elapsed_time, train_loss, train_metric, vali_loss, vali_metric, current_lr))\n",
        "    print(\"epoch: %d, time(s): %.4f, train loss: %.6f, train metric: %.6f, vali loss: %.6f, vali metric: %.6f\" \n",
        "          % (epoch+1, elapsed_time, train_loss, train_metric, vali_loss, vali_metric))\n",
        "    \n",
        "    # update learning rate schedule\n",
        "    #lr_scheduler.step()"
      ]
    },
    {
      "cell_type": "code",
      "execution_count": 21,
      "metadata": {
        "id": "FZyfz3ZsX5Br",
        "colab": {
          "base_uri": "https://localhost:8080/",
          "height": 459
        },
        "outputId": "3162cb11-a521-47b8-a896-2a40c40f6928"
      },
      "outputs": [
        {
          "output_type": "execute_result",
          "data": {
            "text/plain": [
              "<matplotlib.legend.Legend at 0x7fe0308a2510>"
            ]
          },
          "metadata": {},
          "execution_count": 21
        },
        {
          "output_type": "display_data",
          "data": {
            "text/plain": [
              "<Figure size 720x504 with 2 Axes>"
            ],
            "image/png": "[encoded data removed]"
          },
          "metadata": {
            "needs_background": "light"
          }
        }
      ],
      "source": [
        "# plot training results (loss and accuracy vs epoch)\n",
        "plt.figure(figsize=(10, 7))\n",
        "plt.subplot(1,2,1)\n",
        "plt.plot(range(1,len(hist_loss)+1), hist_loss, color='green', linestyle='-', label='train loss')\n",
        "plt.plot(range(1,len(hist_val_loss)+1), hist_val_loss, color='blue', linestyle='-', label='validation loss')\n",
        "plt.xlabel('Epochs')\n",
        "plt.ylabel('Loss')\n",
        "plt.ylim(ymin = 0.0)\n",
        "plt.legend()\n",
        "plt.subplot(1,2,2)\n",
        "plt.plot(range(1,len(hist_metric)+1), hist_metric,  color='green', linestyle='-', label='train metric')\n",
        "plt.plot(range(1,len(hist_val_metric)+1),hist_val_metric, color='blue', linestyle='-', label='validation metric')\n",
        "plt.xlabel('Epochs')\n",
        "plt.ylabel('Accuracy')\n",
        "plt.ylim(ymin = 0.0)\n",
        "plt.legend()"
      ]
    },
    {
      "cell_type": "code",
      "execution_count": 22,
      "metadata": {
        "id": "Mw_C3GGq2QHa"
      },
      "outputs": [],
      "source": [
        "#test the trained model \n",
        "\n",
        "# let's test it on cpu\n",
        "model.to(torch.device(\"cpu\"))\n",
        "\n",
        "X_test_pt = X_test_pt.type(torch.float).to(torch.device(\"cpu\"))\n",
        "res = model(X_test_pt)"
      ]
    },
    {
      "cell_type": "code",
      "execution_count": 24,
      "metadata": {
        "colab": {
          "base_uri": "https://localhost:8080/"
        },
        "id": "l829A8uyuRJd",
        "outputId": "093f801b-fa7c-4e3f-e39c-41befd594f1d"
      },
      "outputs": [
        {
          "output_type": "stream",
          "name": "stdout",
          "text": [
            "Test accuracy:  0.9424999952316284\n"
          ]
        }
      ],
      "source": [
        "print('Test accuracy: ',binary_accuracy(res, torch.unsqueeze(Y_test_pt,1)).item())"
      ]
    }
  ],
  "metadata": {
    "colab": {
      "provenance": [],
      "collapsed_sections": [],
      "include_colab_link": true
    },
    "kernelspec": {
      "display_name": "default:Python",
      "language": "python",
      "name": "conda-env-default-py"
    },
    "language_info": {
      "codemirror_mode": {
        "name": "ipython",
        "version": 3
      },
      "file_extension": ".py",
      "mimetype": "text/x-python",
      "name": "python",
      "nbconvert_exporter": "python",
      "pygments_lexer": "ipython3",
      "version": "3.9.7"
    },
    "accelerator": "GPU",
    "gpuClass": "standard"
  },
  "nbformat": 4,
  "nbformat_minor": 0
}